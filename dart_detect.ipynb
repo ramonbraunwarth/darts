{
 "cells": [
  {
   "cell_type": "code",
   "execution_count": 1,
   "metadata": {},
   "outputs": [],
   "source": [
    "import cv2\n",
    "import numpy as np\n",
    "import matplotlib.pyplot as plt"
   ]
  },
  {
   "cell_type": "code",
   "execution_count": 2,
   "metadata": {},
   "outputs": [
    {
     "name": "stdout",
     "output_type": "stream",
     "text": [
      "width: 1920.0\n",
      "height: 1080.0\n",
      "new width: 1920.0\n",
      "new height: 1080.0\n"
     ]
    }
   ],
   "source": [
    "cap = cv2.VideoCapture(0)\n",
    "\n",
    "# get width\n",
    "width = cap.get(3)\n",
    "print('width: ' + str(width))\n",
    "# get height\n",
    "height = cap.get(4)\n",
    "print('height: ' + str(height))\n",
    "\n",
    "#set wanted width and heigth\n",
    "#ret = cap.set(3, width/4)\n",
    "#ret = cap.set(4, height/4)\n",
    "\n",
    "# check width\n",
    "width = cap.get(3)\n",
    "print('new width: ' + str(width))\n",
    "# check height\n",
    "height = cap.get(4)\n",
    "print('new height: ' + str(height))\n"
   ]
  },
  {
   "cell_type": "code",
   "execution_count": 3,
   "metadata": {},
   "outputs": [],
   "source": [
    "# show video (in extra window), stop by pressing q\n",
    "#cv2.startWindowThread()      # else window won't close when q is pressed\n",
    "while(True):\n",
    "    # Capture frame-by-frame\n",
    "    ret, frame = cap.read()\n",
    "\n",
    "    # Our operations on the frame come here\n",
    "    gray = cv2.cvtColor(frame, cv2.COLOR_BGR2GRAY)\n",
    "\n",
    "    # Display the resulting frame\n",
    "    cv2.imshow('frame',gray)\n",
    "    key = cv2.waitKey(0) & 0xFF\n",
    "#    if key == ord(\"q\"):\n",
    "#        break\n",
    "    if cv2.waitKey(0) == ord('q'):\n",
    "        break\n",
    "        \n",
    "# When everything done, release the capture\n",
    "cap.release()\n",
    "cv2.destroyAllWindows()"
   ]
  },
  {
   "cell_type": "code",
   "execution_count": 11,
   "metadata": {},
   "outputs": [],
   "source": []
  },
  {
   "cell_type": "code",
   "execution_count": null,
   "metadata": {},
   "outputs": [],
   "source": []
  }
 ],
 "metadata": {
  "kernelspec": {
   "display_name": "Python 3",
   "language": "python",
   "name": "python3"
  },
  "language_info": {
   "codemirror_mode": {
    "name": "ipython",
    "version": 3
   },
   "file_extension": ".py",
   "mimetype": "text/x-python",
   "name": "python",
   "nbconvert_exporter": "python",
   "pygments_lexer": "ipython3",
   "version": "3.7.9"
  }
 },
 "nbformat": 4,
 "nbformat_minor": 4
}
